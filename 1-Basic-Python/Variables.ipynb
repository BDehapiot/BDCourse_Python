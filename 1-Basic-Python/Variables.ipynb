{
 "cells": [
  {
   "cell_type": "markdown",
   "id": "2cdb763e-d7d1-4ffb-b694-38e276048da0",
   "metadata": {},
   "source": [
    "# Basic Python\n",
    "## 1. Variables"
   ]
  },
  {
   "cell_type": "markdown",
   "id": "d19adb38-1fb4-4454-b48c-195843d499b1",
   "metadata": {},
   "source": [
    "### 1.1 | Creating variables  \n",
    "---\n",
    "Variables are used to store information to be later referenced or manipulated by a computer program.  \n",
    "In general, variables are defined by their **name**, their **type** and the **data** assigned to them. "
   ]
  },
  {
   "cell_type": "markdown",
   "id": "4e4c1dd2",
   "metadata": {},
   "source": [
    "In Python, variables are created by assigning them a value using the `=` operator."
   ]
  },
  {
   "cell_type": "code",
   "execution_count": 22,
   "id": "6cee00f9-2fbe-4892-a1b2-5d50c107c6b5",
   "metadata": {
    "tags": []
   },
   "outputs": [],
   "source": [
    "a = 1"
   ]
  },
  {
   "cell_type": "markdown",
   "id": "b952db6e-1cb4-48a1-84ba-ecce1269d9db",
   "metadata": {},
   "source": [
    "Here, for example, we have created the variable `a` by assigning it the value 10.  \n",
    "The value of the variable can be displayed using the `print()` function."
   ]
  },
  {
   "cell_type": "code",
   "execution_count": 23,
   "id": "945e6814-e894-487f-9b49-d77970287c29",
   "metadata": {
    "tags": []
   },
   "outputs": [
    {
     "name": "stdout",
     "output_type": "stream",
     "text": [
      "1\n"
     ]
    }
   ],
   "source": [
    "print(a)"
   ]
  },
  {
   "cell_type": "markdown",
   "id": "34547f95-8dd0-4d17-9f5c-aa1a138119f7",
   "metadata": {},
   "source": [
    "### 1.2 | Variable name\n",
    "---\n",
    "Because computer programs tend to be difficult to read, you may want to use comprehensive variable names to help you navigate through your codes.  \n",
    "However, some rules apply to how you can name variables in Python:\n",
    "- Variable names can only contain **alpha-numeric characters** and **underscores** (A-z, 0-9, and _ )\n",
    "- Variable names are case sensitive (`A` defining another variable than `a`)\n",
    "- Variable names can't start with a number  \n",
    "\n",
    "In case of **multi-word variable names**, separate words with underscores or use capital letter at the beginning of each word.  \n",
    "For example, if you want to associate cell and area you can set your variable name as `cell_area` or `cellArea`.  \n",
    "Note that for convention, we will avoid using uppercase for the first letter of the variable name."
   ]
  },
  {
   "cell_type": "markdown",
   "id": "ead50fd4-2ce7-4b68-98da-6d63660c10ef",
   "metadata": {},
   "source": [
    "### 1.3 | Variable type \n",
    "---\n",
    "In Python, the variable type is automatically attributed when the variable is created.  "
   ]
  },
  {
   "cell_type": "code",
   "execution_count": 24,
   "id": "526c4262-3af7-48d8-b8f5-977c9f88fab2",
   "metadata": {
    "tags": []
   },
   "outputs": [],
   "source": [
    "a = 1\n",
    "b = 1.0\n",
    "c = 'one' # is similar to c = \"ten\""
   ]
  },
  {
   "cell_type": "markdown",
   "id": "57a75c4b-3f68-46ef-b23d-02620958215c",
   "metadata": {},
   "source": [
    "Here, we created 3 variables: \n",
    "- `a` as integer or **int**\n",
    "- `b` as floating point number or **float**\n",
    "- `c` as a string or **str**"
   ]
  },
  {
   "cell_type": "markdown",
   "id": "80e068f3-1cd6-440a-9fef-8d30acc7efc0",
   "metadata": {},
   "source": [
    "The variable type can be inspected using the `type()` function. "
   ]
  },
  {
   "cell_type": "code",
   "execution_count": 25,
   "id": "7c94c543-7143-4964-b5ba-eae4ac1b3aa9",
   "metadata": {
    "tags": []
   },
   "outputs": [
    {
     "name": "stdout",
     "output_type": "stream",
     "text": [
      "<class 'int'>\n",
      "<class 'float'>\n",
      "<class 'str'>\n"
     ]
    }
   ],
   "source": [
    "print(type(a))\n",
    "print(type(b))\n",
    "print(type(c))"
   ]
  },
  {
   "cell_type": "markdown",
   "id": "d62e5ba1-bc76-4583-ae8e-2fe9fc43400d",
   "metadata": {},
   "source": [
    "Alternatively, you can use **casting** to impose the variable type."
   ]
  },
  {
   "cell_type": "code",
   "execution_count": 3,
   "id": "01126613-271c-430c-9d86-cf637cfd2281",
   "metadata": {
    "tags": []
   },
   "outputs": [],
   "source": [
    "a = int(1) # will be 1\n",
    "b = float(1) # will be 1.0\n",
    "c = str(1) # will be '1'"
   ]
  },
  {
   "cell_type": "code",
   "execution_count": 6,
   "id": "2a623ab2-ea14-46be-9326-8642bbee912f",
   "metadata": {
    "tags": []
   },
   "outputs": [
    {
     "name": "stdout",
     "output_type": "stream",
     "text": [
      "<class 'int'>\n",
      "<class 'float'>\n",
      "<class 'str'>\n"
     ]
    }
   ],
   "source": [
    "print(type(a))\n",
    "print(type(b))\n",
    "print(type(c))"
   ]
  },
  {
   "cell_type": "markdown",
   "id": "5e922f34-fc4a-4899-9e92-5213902fe258",
   "metadata": {},
   "source": [
    "### 1.4 | Manipulating variables\n",
    "---\n",
    "The value of a variable can be modified after its creation."
   ]
  },
  {
   "cell_type": "code",
   "execution_count": 31,
   "id": "68525b41-8dc5-4f9e-b6e5-2fe1240eddba",
   "metadata": {
    "tags": []
   },
   "outputs": [
    {
     "name": "stdout",
     "output_type": "stream",
     "text": [
      "one\n"
     ]
    }
   ],
   "source": [
    "a = 1\n",
    "a = 'one'\n",
    "print(a)"
   ]
  },
  {
   "cell_type": "markdown",
   "id": "7d7ba7e6-4098-4052-8f3c-4e0bf0a899de",
   "metadata": {},
   "source": [
    "Alternatively, this value can be stored in another variable before its modification. "
   ]
  },
  {
   "cell_type": "code",
   "execution_count": 1,
   "id": "62009dbe-1b5b-44a0-87c4-53aa780cb5cd",
   "metadata": {
    "tags": []
   },
   "outputs": [
    {
     "name": "stdout",
     "output_type": "stream",
     "text": [
      "one\n",
      "1\n"
     ]
    }
   ],
   "source": [
    "a = 1\n",
    "b = a\n",
    "a = 'one'\n",
    "print(a)\n",
    "print(b)"
   ]
  },
  {
   "cell_type": "markdown",
   "id": "f41e5012-2238-4040-bc33-67aa362392db",
   "metadata": {},
   "source": [
    "Also, you can create new variables using **arithmetic operators** with pre-existing variables."
   ]
  },
  {
   "cell_type": "code",
   "execution_count": 9,
   "id": "5a7b5978-d35d-4a84-9477-d1d79a019d0e",
   "metadata": {
    "tags": []
   },
   "outputs": [
    {
     "name": "stdout",
     "output_type": "stream",
     "text": [
      "1\n",
      "2\n",
      "3\n"
     ]
    }
   ],
   "source": [
    "a = 1\n",
    "b = 2\n",
    "c = a + b\n",
    "print(a)\n",
    "print(b)\n",
    "print(c)"
   ]
  },
  {
   "cell_type": "markdown",
   "id": "1ecf506b-61c7-4ba0-b471-28f93bc72f50",
   "metadata": {
    "tags": []
   },
   "source": [
    "### 1.5 | Multiple assignement\n",
    "---\n",
    "To make your codes easier to read, you can assign **multiple values to multiple variables** on a single line."
   ]
  },
  {
   "cell_type": "code",
   "execution_count": 30,
   "id": "f88cc6ae-d417-49b0-a90f-39f6a87f019d",
   "metadata": {
    "tags": []
   },
   "outputs": [
    {
     "name": "stdout",
     "output_type": "stream",
     "text": [
      "1 1.0 one\n"
     ]
    }
   ],
   "source": [
    "a, b, c = 1, 1.0, 'one'\n",
    "print(a,b,c)"
   ]
  },
  {
   "cell_type": "markdown",
   "id": "39dd964a-8cab-4b29-b1fd-7866d99b1f6d",
   "metadata": {},
   "source": [
    "Here, we created 3 variables `a`, `b` and `c` to which we assigned the values 1, 1.0 and 'one'.  \n",
    "Note that we also displayed the variable values in one line by separating variable names with commas in the `print()` function."
   ]
  },
  {
   "cell_type": "markdown",
   "id": "7a996a3f-9e75-4ad6-9ab1-9c75e6042bf5",
   "metadata": {},
   "source": [
    "In the same spirit, it's also possible to assign the **same value to multiple variables** on a single line."
   ]
  },
  {
   "cell_type": "code",
   "execution_count": 29,
   "id": "0dfc72a7-bad9-4e9c-a40f-0d01ae4a5d97",
   "metadata": {
    "tags": []
   },
   "outputs": [
    {
     "name": "stdout",
     "output_type": "stream",
     "text": [
      "1 1 1\n"
     ]
    }
   ],
   "source": [
    "a = b = c = 1\n",
    "print(a,b,c)"
   ]
  }
 ],
 "metadata": {
  "kernelspec": {
   "display_name": "Python 3 (ipykernel)",
   "language": "python",
   "name": "python3"
  },
  "language_info": {
   "codemirror_mode": {
    "name": "ipython",
    "version": 3
   },
   "file_extension": ".py",
   "mimetype": "text/x-python",
   "name": "python",
   "nbconvert_exporter": "python",
   "pygments_lexer": "ipython3",
   "version": "3.10.9"
  }
 },
 "nbformat": 4,
 "nbformat_minor": 5
}
