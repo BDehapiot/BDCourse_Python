{
 "cells": [
  {
   "cell_type": "markdown",
   "id": "13c0975c-f12d-4d5a-8383-6f08e3000893",
   "metadata": {
    "tags": []
   },
   "source": [
    "# Basic Python\n",
    "## 2. Data Structures\n",
    "Data structures are a collection of data types that facilitate access, organisation and manipulation of data in Python. \n",
    "Each of these data structures provides its own way of interacting with data and has its own advantages and limitations. "
   ]
  },
  {
   "cell_type": "markdown",
   "id": "9fb5fe98-9b1a-4a30-ae2b-dcf8b0b23b0d",
   "metadata": {},
   "source": [
    "### 2.1 | List\n",
    "---\n",
    "https://www.w3schools.com/python/python_lists.asp  \n",
    "https://realpython.com/python-lists-tuples/"
   ]
  },
  {
   "cell_type": "markdown",
   "id": "05570e26-64de-485c-8b3b-aaabee64132e",
   "metadata": {},
   "source": [
    "### 2.2 | Tuples\n",
    "---"
   ]
  },
  {
   "cell_type": "markdown",
   "id": "f81abb19-f403-446c-abff-803a98152de8",
   "metadata": {},
   "source": [
    "### 2.3 | Dictionaries\n",
    "---"
   ]
  },
  {
   "cell_type": "markdown",
   "id": "5dfb85b0-dab3-43a3-b847-da82d09245a6",
   "metadata": {},
   "source": [
    "### 2.4 | Numpy arrays\n",
    "---"
   ]
  },
  {
   "cell_type": "markdown",
   "id": "46c248d4-fb70-4d73-8543-bb6b73da7669",
   "metadata": {},
   "source": [
    "### 2.5 | pandas DataFrame\n",
    "---"
   ]
  }
 ],
 "metadata": {
  "kernelspec": {
   "display_name": "Python 3 (ipykernel)",
   "language": "python",
   "name": "python3"
  },
  "language_info": {
   "codemirror_mode": {
    "name": "ipython",
    "version": 3
   },
   "file_extension": ".py",
   "mimetype": "text/x-python",
   "name": "python",
   "nbconvert_exporter": "python",
   "pygments_lexer": "ipython3",
   "version": "3.10.9"
  }
 },
 "nbformat": 4,
 "nbformat_minor": 5
}
