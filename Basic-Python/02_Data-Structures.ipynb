{
 "cells": [
  {
   "cell_type": "markdown",
   "id": "13c0975c-f12d-4d5a-8383-6f08e3000893",
   "metadata": {
    "tags": []
   },
   "source": [
    "# Basic Python\n",
    "## 2. Data Structures\n",
    "Data structures are a collection of data types that facilitate access, organisation and manipulation of data in Python.  \n",
    "Each of these data structures provides its own way of interacting with data and has its own advantages and limitations. "
   ]
  },
  {
   "cell_type": "markdown",
   "id": "9fb5fe98-9b1a-4a30-ae2b-dcf8b0b23b0d",
   "metadata": {},
   "source": [
    "### 2.1 | List\n",
    "---\n",
    "Lists are one of the most versatile Python data type and are used to **store values of any type**, such as integers, floats or strings.  "
   ]
  },
  {
   "cell_type": "markdown",
   "id": "c35dac9f-2fbe-44c7-859a-be9cc35378d4",
   "metadata": {},
   "source": [
    "Lists are created by enclosing a comma-separated sequence of values in square brackets. "
   ]
  },
  {
   "cell_type": "code",
   "execution_count": null,
   "id": "d9f54d85-296e-4d27-891a-e51496ba13d4",
   "metadata": {
    "tags": []
   },
   "outputs": [],
   "source": [
    "my_list = [1, 2.0, 'three']\n",
    "print(my_list)"
   ]
  },
  {
   "cell_type": "markdown",
   "id": "58caecb8-f8ea-4a90-9991-8a3c64b3c876",
   "metadata": {},
   "source": [
    "Lists are **indexed**, which means that each element can be retrieved individually using its position in the list.  \n",
    "Note that indexing in Python starts with 0 and that negative index can be used to access elements counting from the end of the list."
   ]
  },
  {
   "cell_type": "code",
   "execution_count": null,
   "id": "37729a4d-2b8c-4989-87c3-3de9f2aab189",
   "metadata": {
    "tags": []
   },
   "outputs": [],
   "source": [
    "print(my_list[0]) # first element\n",
    "print(my_list[1]) # second element\n",
    "print(my_list[-1]) # fisrt element from the end\n",
    "print(my_list[-2]) # seond element from the end"
   ]
  },
  {
   "cell_type": "markdown",
   "id": "1402faef-e1cf-42e6-9292-3fda21c23cb2",
   "metadata": {},
   "source": [
    "Lists are **mutable**, which means that they can be modified after they have been created."
   ]
  },
  {
   "cell_type": "code",
   "execution_count": null,
   "id": "2562710a-3787-4bd2-9ad4-3a89452ef4c4",
   "metadata": {
    "tags": []
   },
   "outputs": [],
   "source": [
    "my_list[1] = 2 \n",
    "my_list[2] = 3\n",
    "print(my_list)"
   ]
  },
  {
   "cell_type": "markdown",
   "id": "d049cac0-e3ca-4024-a52c-3e21b5df89c6",
   "metadata": {
    "tags": []
   },
   "source": [
    "A variety of methods (or functions) are associated with lists to facilitate their manipulation.  \n",
    "Check the list of methods associated to Python lists [here](../Ressources/Python-Data-Types.ipynb###2-Tuple)."
   ]
  },
  {
   "cell_type": "markdown",
   "id": "05570e26-64de-485c-8b3b-aaabee64132e",
   "metadata": {},
   "source": [
    "### 2.2 | Tuples\n",
    "---"
   ]
  },
  {
   "cell_type": "markdown",
   "id": "f81abb19-f403-446c-abff-803a98152de8",
   "metadata": {},
   "source": [
    "### 2.3 | Dictionaries\n",
    "---"
   ]
  },
  {
   "cell_type": "markdown",
   "id": "5dfb85b0-dab3-43a3-b847-da82d09245a6",
   "metadata": {},
   "source": [
    "### 2.4 | Numpy arrays\n",
    "---"
   ]
  },
  {
   "cell_type": "markdown",
   "id": "46c248d4-fb70-4d73-8543-bb6b73da7669",
   "metadata": {},
   "source": [
    "### 2.5 | pandas DataFrame\n",
    "---"
   ]
  }
 ],
 "metadata": {
  "kernelspec": {
   "display_name": "Python 3 (ipykernel)",
   "language": "python",
   "name": "python3"
  },
  "language_info": {
   "codemirror_mode": {
    "name": "ipython",
    "version": 3
   },
   "file_extension": ".py",
   "mimetype": "text/x-python",
   "name": "python",
   "nbconvert_exporter": "python",
   "pygments_lexer": "ipython3",
   "version": "3.10.9"
  }
 },
 "nbformat": 4,
 "nbformat_minor": 5
}
