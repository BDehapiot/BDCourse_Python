{
 "cells": [
  {
   "cell_type": "markdown",
   "id": "13c0975c-f12d-4d5a-8383-6f08e3000893",
   "metadata": {
    "tags": []
   },
   "source": [
    "# Basic Python\n",
    "## 2. Data Structures\n",
    "Data structures are a collection of data types that facilitate access, organisation and manipulation of data in Python.  \n",
    "Each of these data structures provides its own way of interacting with data and has its own advantages and limitations. "
   ]
  },
  {
   "cell_type": "markdown",
   "id": "9fb5fe98-9b1a-4a30-ae2b-dcf8b0b23b0d",
   "metadata": {},
   "source": [
    "### 2.1 | List\n",
    "---\n",
    "Lists are one of the most versatile Python data type and are used to **store values of any type**, such as integers, floats or strings.  "
   ]
  },
  {
   "cell_type": "markdown",
   "id": "c35dac9f-2fbe-44c7-859a-be9cc35378d4",
   "metadata": {},
   "source": [
    "Lists are created by enclosing a comma-separated sequence of values in **square brackets**. "
   ]
  },
  {
   "cell_type": "code",
   "execution_count": null,
   "id": "d9f54d85-296e-4d27-891a-e51496ba13d4",
   "metadata": {
    "tags": []
   },
   "outputs": [],
   "source": [
    "my_list = [1, 2.0, 'three']\n",
    "print(my_list)"
   ]
  },
  {
   "cell_type": "markdown",
   "id": "9766f3c7-bdb9-4177-833b-3af164679978",
   "metadata": {
    "tags": []
   },
   "source": [
    "<hr style=\"border-top: 1px\">"
   ]
  },
  {
   "cell_type": "markdown",
   "id": "58caecb8-f8ea-4a90-9991-8a3c64b3c876",
   "metadata": {},
   "source": [
    "Lists are **indexed**, which means that each element can be retrieved individually using its position in the list.  \n",
    "indexing in Python starts with 0 and that negative index can be used to access elements counting from the end of the list."
   ]
  },
  {
   "cell_type": "code",
   "execution_count": null,
   "id": "37729a4d-2b8c-4989-87c3-3de9f2aab189",
   "metadata": {
    "tags": []
   },
   "outputs": [],
   "source": [
    "print(my_list[0]) # first element\n",
    "print(my_list[1]) # second element\n",
    "print(my_list[-1]) # fisrt element from the end\n",
    "print(my_list[-2]) # seond element from the end"
   ]
  },
  {
   "cell_type": "markdown",
   "id": "c874a5ab-82f1-4f9f-a5b2-7b6afbd03fa5",
   "metadata": {},
   "source": [
    "<hr style=\"border-top: 1px\">"
   ]
  },
  {
   "cell_type": "markdown",
   "id": "1402faef-e1cf-42e6-9292-3fda21c23cb2",
   "metadata": {},
   "source": [
    "Lists are **mutable**, which means that they can be modified after they have been created."
   ]
  },
  {
   "cell_type": "code",
   "execution_count": null,
   "id": "2562710a-3787-4bd2-9ad4-3a89452ef4c4",
   "metadata": {
    "tags": []
   },
   "outputs": [],
   "source": [
    "my_list[1] = 2 \n",
    "my_list[2] = 3\n",
    "print(my_list)"
   ]
  },
  {
   "cell_type": "markdown",
   "id": "99f03b98-0e5f-458d-86a5-aba8f7cf5ec9",
   "metadata": {},
   "source": [
    "<hr style=\"border-top: 1px\">"
   ]
  },
  {
   "cell_type": "markdown",
   "id": "02037da4-c27c-4f29-b3a4-ef10a187351b",
   "metadata": {},
   "source": [
    "List can be **nested**, in the sense that they can contain other lists, allowing for complex data structures and hierarchies."
   ]
  },
  {
   "cell_type": "code",
   "execution_count": null,
   "id": "d89f33d2-3a87-47a3-85e1-e712f9e6741f",
   "metadata": {
    "tags": []
   },
   "outputs": [],
   "source": [
    "my_list1 = [1, 2, 3] \n",
    "my_list2 = [1.0, 2.0, 3.0]\n",
    "my_list3 = ['one', 'two', 'three']\n",
    "nested_list = [my_list1, my_list2, my_list3] # store created lists in a new list\n",
    "print(nested_list)"
   ]
  },
  {
   "cell_type": "markdown",
   "id": "0d664c5d-6bfa-44de-805d-5cbbb2690127",
   "metadata": {},
   "source": [
    "You can retrieve elements in a nested list as follow:"
   ]
  },
  {
   "cell_type": "code",
   "execution_count": null,
   "id": "3c9116f7-e52a-4446-84d4-8467ad965ee0",
   "metadata": {
    "tags": []
   },
   "outputs": [],
   "source": [
    "print(nested_list[2])\n",
    "print(nested_list[2][0])"
   ]
  },
  {
   "cell_type": "markdown",
   "id": "e00de1f5-18a0-4ef3-ade0-73144399ffb2",
   "metadata": {
    "tags": []
   },
   "source": [
    "<hr style=\"border-top: 1px\">"
   ]
  },
  {
   "cell_type": "markdown",
   "id": "d049cac0-e3ca-4024-a52c-3e21b5df89c6",
   "metadata": {
    "tags": []
   },
   "source": [
    "Lists are associated with a variety of **methods** (functions) to facilitate their manipulation.  \n",
    "You can for example add one element to the end of a list using the `append()` method."
   ]
  },
  {
   "cell_type": "code",
   "execution_count": null,
   "id": "caa6bb61-4f8d-4157-b3ce-4161f7a7bf8e",
   "metadata": {
    "tags": []
   },
   "outputs": [],
   "source": [
    "my_list.append(4)\n",
    "print(my_list)"
   ]
  },
  {
   "cell_type": "markdown",
   "id": "01cabd48-2c4a-4b00-8170-c46bcaface49",
   "metadata": {},
   "source": [
    "This element can be removed using the `pop()` method."
   ]
  },
  {
   "cell_type": "code",
   "execution_count": null,
   "id": "f7b80ef1-3214-4252-8184-e8419e31453a",
   "metadata": {
    "tags": []
   },
   "outputs": [],
   "source": [
    "my_list.pop()\n",
    "print(my_list)"
   ]
  },
  {
   "cell_type": "markdown",
   "id": "1a6264b6-2575-4ce5-8299-e2b5146331bb",
   "metadata": {},
   "source": [
    "Check Python list associated methods [here](../Ressources/Python-List-Methods.ipynb)."
   ]
  },
  {
   "cell_type": "markdown",
   "id": "05570e26-64de-485c-8b3b-aaabee64132e",
   "metadata": {},
   "source": [
    "### 2.2 | Tuples\n",
    "---\n",
    "Tuples are comparable to lists except that they are **immutable** and therefore cannot be modified.  \n",
    "This feature improves code performance, given the way tuples are stored in the memory, but also prevent accidental modifications."
   ]
  },
  {
   "cell_type": "markdown",
   "id": "6e0da8a9-8b66-4e57-87f9-e3f33ec41bc1",
   "metadata": {},
   "source": [
    "<hr style=\"border-top: 1px\">"
   ]
  },
  {
   "cell_type": "markdown",
   "id": "49182ce6-435e-4d1d-8935-6c14a5bf193f",
   "metadata": {},
   "source": [
    "Tuples are created by enclosing a comma-separated sequence of values in **parentheses**. "
   ]
  },
  {
   "cell_type": "code",
   "execution_count": null,
   "id": "32df5151-5cf8-4c17-b7a8-294d80d0a314",
   "metadata": {
    "tags": []
   },
   "outputs": [],
   "source": [
    "my_tuple = (1, 2.0, 'three')\n",
    "print(my_tuple)"
   ]
  },
  {
   "cell_type": "markdown",
   "id": "16210a4b-c9fc-4d8c-9754-69209503c045",
   "metadata": {},
   "source": [
    "<hr style=\"border-top: 1px\">"
   ]
  },
  {
   "cell_type": "markdown",
   "id": "6653ff79-a2c0-4824-b292-6a64f63ff3a5",
   "metadata": {},
   "source": [
    "Like lists, tuples are **indexed** and can be **nested**.\n"
   ]
  },
  {
   "cell_type": "code",
   "execution_count": null,
   "id": "51895778-44d3-4b31-ba94-397af710f5b0",
   "metadata": {
    "tags": []
   },
   "outputs": [],
   "source": [
    "my_tuple1 = (1, 2, 3) \n",
    "my_tuple2 = (1.0, 2.0, 3.0)\n",
    "my_tuple3 = ('one', 'two', 'three')\n",
    "nested_tuple = (my_tuple1, my_tuple2, my_tuple3) # store created tuples in a new tuple\n",
    "print(nested_tuple)\n",
    "print(nested_tuple[2])\n",
    "print(nested_tuple[2][0])"
   ]
  },
  {
   "cell_type": "markdown",
   "id": "7faa4994-1d31-485d-9a59-e22577a0c667",
   "metadata": {},
   "source": [
    "However, they cannot be modified."
   ]
  },
  {
   "cell_type": "code",
   "execution_count": null,
   "id": "4be6330c-3f8f-4f3f-98de-27eef10a87e5",
   "metadata": {},
   "outputs": [],
   "source": [
    "my_tuple[1] = 2 "
   ]
  },
  {
   "cell_type": "markdown",
   "id": "dbac7170-58d1-480f-8d4e-46f5d36ebb25",
   "metadata": {},
   "source": [
    "<hr style=\"border-top: 1px\">"
   ]
  },
  {
   "cell_type": "markdown",
   "id": "65e985f6-ede0-4ce6-b97d-221e11f57df5",
   "metadata": {},
   "source": [
    "Finally, tuples also come with associated **methods**, though fewer than for lists.  \n",
    "Check Python tuples associated methods [here](../Ressources/Python-Tuple-Methods.ipynb)."
   ]
  },
  {
   "cell_type": "markdown",
   "id": "f81abb19-f403-446c-abff-803a98152de8",
   "metadata": {},
   "source": [
    "### 2.3 | Dictionaries\n",
    "---\n",
    "Dictionaries are another Python data structure that stores data as **key-value pairs**.  \n",
    "Each key in a dictionary maps to a corresponding value, and you can use the key to access the corresponding value."
   ]
  },
  {
   "cell_type": "markdown",
   "id": "1b918963-8bf3-4c41-8ad5-644a56d481e5",
   "metadata": {},
   "source": [
    "Dictionaries are created by enclosing a comma-separated sequence of key-value pairs in **curly braces**, with a colon separating each key from its corresponding value."
   ]
  },
  {
   "cell_type": "code",
   "execution_count": null,
   "id": "a97d3265-d8f1-494a-89df-5855b16f3882",
   "metadata": {
    "tags": []
   },
   "outputs": [],
   "source": [
    "my_dict = {'name': 'John', 'surname': 'Doe', 'age': 32}\n",
    "print(my_dict)"
   ]
  },
  {
   "cell_type": "markdown",
   "id": "cb657253-f169-48d6-9fd4-9b1d51dcf909",
   "metadata": {},
   "source": [
    "<hr style=\"border-top: 1px\">"
   ]
  },
  {
   "cell_type": "markdown",
   "id": "fd5fb2f0-9234-4753-9136-d0a9b9a72359",
   "metadata": {},
   "source": [
    "Dictionaries are **indexed** and values can be acessed using their associated keys."
   ]
  },
  {
   "cell_type": "code",
   "execution_count": null,
   "id": "3352b43e-60f6-4191-89e9-1f96b0fea2e4",
   "metadata": {
    "tags": []
   },
   "outputs": [],
   "source": [
    "print(my_dict['name'])"
   ]
  },
  {
   "cell_type": "markdown",
   "id": "6fba39e5-4269-42a0-b5c6-0cd25ebdd6c5",
   "metadata": {},
   "source": [
    "<hr style=\"border-top: 1px\">"
   ]
  },
  {
   "cell_type": "markdown",
   "id": "205c87e3-42d6-45d4-a43e-7bd8cdb2c576",
   "metadata": {},
   "source": [
    "Dictionaries are **mutable**, meaning that key-value pairs can be modified, added or deleted."
   ]
  },
  {
   "cell_type": "code",
   "execution_count": null,
   "id": "9166f368-e651-4ef0-8ace-44bdd57fdef8",
   "metadata": {
    "tags": []
   },
   "outputs": [],
   "source": [
    "my_dict['name'] = 'Jane' # modify\n",
    "my_dict['size'] = 170 # add\n",
    "del my_dict['age'] # delete\n",
    "print(my_dict)"
   ]
  },
  {
   "cell_type": "markdown",
   "id": "d87abebf-931b-477b-948f-7afe3fb38070",
   "metadata": {},
   "source": [
    "Though values in a dictionary can be of any type, a key can only point toward one value."
   ]
  },
  {
   "cell_type": "code",
   "execution_count": null,
   "id": "ef238927-0d8b-4401-948e-20bc6b49f5e6",
   "metadata": {
    "tags": []
   },
   "outputs": [],
   "source": [
    "my_dict = {'name': 'John', 'surname': 'Doe', 'age': 32, 'age': 36}\n",
    "print(my_dict)"
   ]
  },
  {
   "cell_type": "markdown",
   "id": "72613664-a884-4be9-b087-28bf2456c465",
   "metadata": {},
   "source": [
    "<hr style=\"border-top: 1px\">"
   ]
  },
  {
   "cell_type": "markdown",
   "id": "b6cea163-f71a-414d-8018-3601a928d483",
   "metadata": {},
   "source": [
    "Like lists and tuples, dictionaries can be **nested**, containing other dictionaries or data types."
   ]
  },
  {
   "cell_type": "code",
   "execution_count": null,
   "id": "4c68ebc1-389a-4e15-b240-a3e42ae943f1",
   "metadata": {
    "tags": []
   },
   "outputs": [],
   "source": [
    "name_list = ['John', 'Jane', 'Tim'] \n",
    "surname_tuple = ('Doe', 'Doe', 'Doe')\n",
    "birthday_dict = {'month': ('June', 'November', 'August'), 'day': (21, 6, 14), 'year': (1986, 1990, 2016)}\n",
    "nested_dict = {'name': name_list, 'surname': surname_tuple, 'birthday': birthday_dict} # store created data types in a new dictionary\n",
    "print(nested_dict)\n",
    "print(nested_dict['name'])\n",
    "print(nested_dict['name'][1])\n",
    "print(nested_dict['birthday']['month'][2])"
   ]
  },
  {
   "cell_type": "markdown",
   "id": "d8f08250-a95f-4885-a3bf-c1b0a8598f8e",
   "metadata": {},
   "source": [
    "<hr style=\"border-top: 1px\">"
   ]
  },
  {
   "cell_type": "markdown",
   "id": "00f063b6-00f5-487d-a819-389de72ea58e",
   "metadata": {},
   "source": [
    "Dictionaries are also associated with **methods** for example retriving all keys and values. \n",
    "You can for example retreive all keys of a dictionary using the `keys()` "
   ]
  },
  {
   "cell_type": "code",
   "execution_count": null,
   "id": "84221338-e8de-4ab4-aa9b-12997dc7dcd2",
   "metadata": {
    "tags": []
   },
   "outputs": [],
   "source": [
    "nested_dict.items()"
   ]
  },
  {
   "cell_type": "markdown",
   "id": "5dfb85b0-dab3-43a3-b847-da82d09245a6",
   "metadata": {},
   "source": [
    "### 2.4 | Numpy arrays\n",
    "---"
   ]
  },
  {
   "cell_type": "markdown",
   "id": "46c248d4-fb70-4d73-8543-bb6b73da7669",
   "metadata": {},
   "source": [
    "### 2.5 | pandas DataFrame\n",
    "---"
   ]
  },
  {
   "cell_type": "markdown",
   "id": "9abb5821-ba0b-4f1e-9a98-2e4f2cfa7182",
   "metadata": {},
   "source": [
    "⚠️ "
   ]
  }
 ],
 "metadata": {
  "kernelspec": {
   "display_name": "Python 3 (ipykernel)",
   "language": "python",
   "name": "python3"
  },
  "language_info": {
   "codemirror_mode": {
    "name": "ipython",
    "version": 3
   },
   "file_extension": ".py",
   "mimetype": "text/x-python",
   "name": "python",
   "nbconvert_exporter": "python",
   "pygments_lexer": "ipython3",
   "version": "3.10.9"
  }
 },
 "nbformat": 4,
 "nbformat_minor": 5
}
