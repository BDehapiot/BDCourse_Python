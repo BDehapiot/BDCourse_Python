{
 "cells": [
  {
   "cell_type": "markdown",
   "id": "13c0975c-f12d-4d5a-8383-6f08e3000893",
   "metadata": {
    "tags": []
   },
   "source": [
    "# Basic Python\n",
    "## 2. Data Types\n",
    "Data types are used to define the type of data stored in a variable.  \n",
    "Python comes with a variety of built-in data types and others can be imported with external libraries and modules (e.g. pandas DataFrame, NumPy arrays...).  \n",
    "Learn more about Python data types [here](../Ressources/Python-Data-Types.ipynb)."
   ]
  },
  {
   "cell_type": "markdown",
   "id": "9fb5fe98-9b1a-4a30-ae2b-dcf8b0b23b0d",
   "metadata": {},
   "source": [
    "### 2.1 | Numeric types \n",
    "---\n",
    "In Python, variables are created by assigning them a value using the `=` operator."
   ]
  }
 ],
 "metadata": {
  "kernelspec": {
   "display_name": "Python 3 (ipykernel)",
   "language": "python",
   "name": "python3"
  },
  "language_info": {
   "codemirror_mode": {
    "name": "ipython",
    "version": 3
   },
   "file_extension": ".py",
   "mimetype": "text/x-python",
   "name": "python",
   "nbconvert_exporter": "python",
   "pygments_lexer": "ipython3",
   "version": "3.10.9"
  }
 },
 "nbformat": 4,
 "nbformat_minor": 5
}
