{
 "cells": [
  {
   "cell_type": "markdown",
   "id": "a8d69741-dfca-418a-846e-dced9f6faf87",
   "metadata": {
    "tags": []
   },
   "source": [
    "# Basic Python\n",
    "## 3. NumPy Arrays"
   ]
  },
  {
   "cell_type": "markdown",
   "id": "5d177c70-9b21-4616-b0b8-efec3ede27a0",
   "metadata": {},
   "source": [
    "NumPy arrays, or `ndarray`, are a popular structure in Python that enable the storage of data in multi-dimensional matrices. While they share similarities with Python Lists, they are distinguished by the fact that they can only contain **elements of the same data type**. This characteristic optimizes the memory layout and results in more efficient computation, making `ndarray` an ideal data structure for handling images and large datasets.  \n",
    "\n",
    "NumPy `ndarray` are used by a multitude of scientific Python libraries, including SciPy, Scikit-learn, Pandas and Matplotlib, making them a fundamental data structure to learn.  \n",
    "\n",
    "Add:\n",
    "- oriented for number computing\n",
    "- similar to matlab\n",
    "- it comes with NumPy package wich contains many functions\n",
    "- ndarray have a lot of associated methods and attributes"
   ]
  },
  {
   "cell_type": "markdown",
   "id": "a56b7f30-3f56-4412-8f8a-b67ff5ac5f31",
   "metadata": {},
   "source": [
    "<hr style=\"border-top: 1px\">"
   ]
  },
  {
   "cell_type": "markdown",
   "id": "2ea5cdd7-1603-46aa-895e-9f0e11d2c826",
   "metadata": {},
   "source": [
    "To use `ndarray`, you will first need to install the NumPy package and import it as follow:  \n",
    "Learn more about installing Python packages [here](https://packaging.python.org/en/latest/tutorials/installing-packages/). "
   ]
  },
  {
   "cell_type": "code",
   "execution_count": 4,
   "id": "a2a37da4-0d5d-40c5-a382-cd1a9062c0fb",
   "metadata": {
    "tags": []
   },
   "outputs": [],
   "source": [
    "import numpy\n",
    "import numpy as np # using np alias"
   ]
  },
  {
   "cell_type": "markdown",
   "id": "77871b05-d71a-4302-ac7f-3f20765d6ba4",
   "metadata": {
    "tags": []
   },
   "source": [
    "`ndarray` are created from lists or tuples using the `np.array()` function."
   ]
  },
  {
   "cell_type": "code",
   "execution_count": 5,
   "id": "af402df7-7345-418f-85f2-bf1cca48eedb",
   "metadata": {
    "tags": []
   },
   "outputs": [
    {
     "name": "stdout",
     "output_type": "stream",
     "text": [
      "[1 2 3 4 5]\n",
      "[1 2 3 4 5]\n"
     ]
    }
   ],
   "source": [
    "my_array_from_list = np.array([1, 2, 3, 4, 5]) # list (default)\n",
    "my_array_from_tuple = np.array((1, 2, 3, 4, 5)) # tuple\n",
    "print(my_array_from_list)\n",
    "print(my_array_from_tuple)"
   ]
  },
  {
   "cell_type": "markdown",
   "id": "2ce6436f-c97b-4878-8aa7-10f1deca5a48",
   "metadata": {},
   "source": [
    "<hr style=\"border-top: 1px\">"
   ]
  },
  {
   "cell_type": "markdown",
   "id": "51cfbd97-b415-4bac-ae73-9b12b2c07cb8",
   "metadata": {},
   "source": [
    "`ndarray` can be **multi-dimensional**, ranging from 0 to n dimension."
   ]
  },
  {
   "cell_type": "code",
   "execution_count": 32,
   "id": "afc24e83-e7b0-4deb-92f5-430c541e4511",
   "metadata": {
    "tags": []
   },
   "outputs": [
    {
     "name": "stdout",
     "output_type": "stream",
     "text": [
      "[[[1 2]\n",
      "  [3 4]]\n",
      "\n",
      " [[5 6]\n",
      "  [7 8]]]\n"
     ]
    }
   ],
   "source": [
    "# 0-D array or scalar\n",
    "my_array_0D = np.array(1)\n",
    "# 1-D array or vector\n",
    "my_array_1D = np.array([1, 2])\n",
    "# 2-D array or matrix\n",
    "my_array_2D = np.array([[1, 2], [3, 4]])\n",
    "# 3-D array or matrix\n",
    "my_array_3D = np.array([[[1, 2], [3, 4]], [[5, 6], [7, 8]]])\n",
    "print(my_array_3D)"
   ]
  },
  {
   "cell_type": "markdown",
   "id": "cfe4a32c-3a3c-4945-b117-4312b1d52847",
   "metadata": {},
   "source": [
    "<hr style=\"border-top: 1px\">"
   ]
  },
  {
   "cell_type": "markdown",
   "id": "b4210030-a7ed-4b5b-bc04-6da894e7aeeb",
   "metadata": {},
   "source": [
    "`ndarray` are **indexed** and individual elements can be retrieved as with Python lists and tuples.  "
   ]
  },
  {
   "cell_type": "code",
   "execution_count": 45,
   "id": "7f3ba5be-3a3d-469b-95e4-932688e10305",
   "metadata": {
    "tags": []
   },
   "outputs": [
    {
     "name": "stdout",
     "output_type": "stream",
     "text": [
      "1\n",
      "2\n",
      "3\n",
      "2\n",
      "4\n",
      "8\n"
     ]
    }
   ],
   "source": [
    "# 1-D array or vector\n",
    "print(my_array_1D[0]) # first element (1D array)\n",
    "print(my_array_1D[-1]) # last element of a 1D array\n",
    "# 2-D array or matrix\n",
    "print(my_array_2D[1][0]) # 2nd row, 1st column (2D array)\n",
    "print(my_array_2D[0][1]) # 1st row, 2nd column (2D array)\n",
    "# 3-D array or matrix\n",
    "print(my_array_3D[0][1][0]) # 2nd row, 1st column, 1st 2D array (3D array)\n",
    "print(my_array_3D[1][1][0]) # 2nd row, 1st column, 2nd 2D array (3D array)"
   ]
  },
  {
   "cell_type": "markdown",
   "id": "1b48a2c1-8bd8-4b20-805c-da6832a939fb",
   "metadata": {},
   "source": []
  },
  {
   "cell_type": "code",
   "execution_count": null,
   "id": "bf05ab56-7152-4a92-b9cd-c56b49859375",
   "metadata": {},
   "outputs": [],
   "source": [
    "print(my_array_2D[1, 0]) # 2nd row, 1st column (2D array)\n",
    "print(my_array_3D[0, 1, 0]) # 2nd row, 1st column, 1st 2D array (3D array)"
   ]
  }
 ],
 "metadata": {
  "kernelspec": {
   "display_name": "Python 3 (ipykernel)",
   "language": "python",
   "name": "python3"
  },
  "language_info": {
   "codemirror_mode": {
    "name": "ipython",
    "version": 3
   },
   "file_extension": ".py",
   "mimetype": "text/x-python",
   "name": "python",
   "nbconvert_exporter": "python",
   "pygments_lexer": "ipython3",
   "version": "3.10.9"
  }
 },
 "nbformat": 4,
 "nbformat_minor": 5
}
