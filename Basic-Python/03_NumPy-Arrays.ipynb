{
 "cells": [
  {
   "cell_type": "markdown",
   "id": "a8d69741-dfca-418a-846e-dced9f6faf87",
   "metadata": {
    "tags": []
   },
   "source": [
    "# Basic Python\n",
    "## 3. NumPy Arrays"
   ]
  },
  {
   "cell_type": "markdown",
   "id": "5d177c70-9b21-4616-b0b8-efec3ede27a0",
   "metadata": {},
   "source": [
    "NumPy arrays, or `ndarray`, are a popular structure in Python that enable the storage of data in multi-dimensional matrices. While they share similarities with Python Lists, they are distinguished by the fact that they can only contain **elements of the same data type**. This characteristic optimizes the memory layout and results in more efficient computation, making `ndarray` an ideal data structure for handling images and large datasets.  \n",
    "\n",
    "NumPy `ndarray` are used by a multitude of scientific Python libraries, including SciPy, Scikit-learn, Pandas and Matplotlib, making them a fundamental data structure to learn.  \n",
    "\n",
    "Add:\n",
    "- oriented for number computing\n",
    "- similar to matlab\n",
    "- it comes with NumPy package wich contains many functions\n",
    "- ndarray have a lot of associated methods and attributes"
   ]
  },
  {
   "cell_type": "markdown",
   "id": "a56b7f30-3f56-4412-8f8a-b67ff5ac5f31",
   "metadata": {},
   "source": [
    "<hr style=\"border-top: 1px\">"
   ]
  },
  {
   "cell_type": "markdown",
   "id": "2ea5cdd7-1603-46aa-895e-9f0e11d2c826",
   "metadata": {},
   "source": [
    "To use `ndarray`, you will first need to install the NumPy package and import it as follow:  \n",
    "Learn more about installing Python packages [here](https://packaging.python.org/en/latest/tutorials/installing-packages/). "
   ]
  },
  {
   "cell_type": "code",
   "execution_count": 2,
   "id": "a2a37da4-0d5d-40c5-a382-cd1a9062c0fb",
   "metadata": {
    "tags": []
   },
   "outputs": [],
   "source": [
    "import numpy\n",
    "import numpy as np # using np alias"
   ]
  },
  {
   "cell_type": "markdown",
   "id": "77871b05-d71a-4302-ac7f-3f20765d6ba4",
   "metadata": {
    "tags": []
   },
   "source": [
    "`ndarray` are created from lists or tuples using the `np.array()` function."
   ]
  },
  {
   "cell_type": "code",
   "execution_count": 5,
   "id": "af402df7-7345-418f-85f2-bf1cca48eedb",
   "metadata": {
    "tags": []
   },
   "outputs": [
    {
     "name": "stdout",
     "output_type": "stream",
     "text": [
      "[1 2 3 4 5]\n",
      "[1 2 3 4 5]\n"
     ]
    }
   ],
   "source": [
    "my_array_from_list = np.array([1, 2, 3, 4, 5]) # list (default)\n",
    "my_array_from_tuple = np.array((1, 2, 3, 4, 5)) # tuple\n",
    "print(my_array_from_list)\n",
    "print(my_array_from_tuple)"
   ]
  },
  {
   "cell_type": "markdown",
   "id": "2ce6436f-c97b-4878-8aa7-10f1deca5a48",
   "metadata": {},
   "source": [
    "<hr style=\"border-top: 1px\">"
   ]
  },
  {
   "cell_type": "markdown",
   "id": "51cfbd97-b415-4bac-ae73-9b12b2c07cb8",
   "metadata": {},
   "source": [
    "`ndarray` can be **multi-dimensional**, ranging from 0 to n dimension.  \n",
    "`ndarray` are **indexed** and individual elements can be retrieved as with Python lists and tuples. "
   ]
  },
  {
   "cell_type": "code",
   "execution_count": 19,
   "id": "ac745e56-1402-4a64-bdd8-69a629d11939",
   "metadata": {
    "tags": []
   },
   "outputs": [
    {
     "name": "stdout",
     "output_type": "stream",
     "text": [
      "1\n"
     ]
    }
   ],
   "source": [
    "# 0-D array or scalar\n",
    "my_array_0D = np.array(1)\n",
    "print(my_array_0D)"
   ]
  },
  {
   "cell_type": "markdown",
   "id": "cb514c52-ec3a-4b99-94bf-0009e6592511",
   "metadata": {},
   "source": [
    "For **1D arrays**, the index refers t"
   ]
  },
  {
   "cell_type": "code",
   "execution_count": 21,
   "id": "5e04e523-133f-4dc6-87b9-79872a969b16",
   "metadata": {
    "tags": []
   },
   "outputs": [
    {
     "name": "stdout",
     "output_type": "stream",
     "text": [
      "[1 2]\n",
      "2\n"
     ]
    }
   ],
   "source": [
    "# 1-D array or vector\n",
    "my_array_1D = np.array([1, 2])\n",
    "print(my_array_1D)\n",
    "print(my_array_1D[1]) # 2nd element"
   ]
  },
  {
   "cell_type": "markdown",
   "id": "5ecaa1e1-5250-407c-8dce-70900ddd8823",
   "metadata": {},
   "source": [
    "For **2D arrays**, the first index refers to rows and the second to columns."
   ]
  },
  {
   "cell_type": "code",
   "execution_count": 22,
   "id": "6daaf817-0d4e-4b27-878b-ca4eeb2b0455",
   "metadata": {
    "tags": []
   },
   "outputs": [
    {
     "name": "stdout",
     "output_type": "stream",
     "text": [
      "[[1 2]\n",
      " [3 4]]\n",
      "3\n",
      "2\n"
     ]
    }
   ],
   "source": [
    "# 2-D array or matrix\n",
    "my_array_2D = np.array([[1, 2], [3, 4]])\n",
    "print(my_array_2D)\n",
    "print(my_array_2D[1][0]) # 2nd row of 1st column (2D array)\n",
    "print(my_array_2D[0][1]) # 1st row of 2nd column (2D array)"
   ]
  },
  {
   "cell_type": "markdown",
   "id": "6a5d8f01-5dc4-4898-b56c-d039a17f7e7f",
   "metadata": {},
   "source": [
    "For **3D arrays**, the first index refers to 2D array, the second to rows and the third to columns."
   ]
  },
  {
   "cell_type": "code",
   "execution_count": 24,
   "id": "afc24e83-e7b0-4deb-92f5-430c541e4511",
   "metadata": {
    "tags": []
   },
   "outputs": [
    {
     "name": "stdout",
     "output_type": "stream",
     "text": [
      "[[[1 2]\n",
      "  [3 4]]\n",
      "\n",
      " [[5 6]\n",
      "  [7 8]]]\n",
      "3\n",
      "6\n"
     ]
    }
   ],
   "source": [
    "# 3-D array or matrix\n",
    "my_array_3D = np.array([[[1, 2], [3, 4]], [[5, 6], [7, 8]]])\n",
    "print(my_array_3D)\n",
    "print(my_array_3D[0][1][0]) # 2nd row, 1st column of 1st 2D array (3D array)\n",
    "print(my_array_3D[1][0][1]) # 1st row, 2nd column of 2nd 2D array (3D array)"
   ]
  },
  {
   "cell_type": "markdown",
   "id": "cfe4a32c-3a3c-4945-b117-4312b1d52847",
   "metadata": {},
   "source": [
    "<hr style=\"border-top: 1px\">"
   ]
  },
  {
   "cell_type": "code",
   "execution_count": 13,
   "id": "bf05ab56-7152-4a92-b9cd-c56b49859375",
   "metadata": {},
   "outputs": [
    {
     "name": "stdout",
     "output_type": "stream",
     "text": [
      "3\n",
      "3\n",
      "[1 2]\n",
      "[[5 6]\n",
      " [7 8]]\n"
     ]
    }
   ],
   "source": [
    "print(my_array_2D[1, 0]) # 2nd row, 1st column (2D array)\n",
    "print(my_array_3D[0, 1, 0]) # 2nd row, 1st column, 1st 2D array (3D array)\n",
    "print(my_array_2D[0,...]) # all elements of 2nd row (2D array)\n",
    "print(my_array_3D[1,...]) # all elements of 2nd 2D array (3D array)"
   ]
  }
 ],
 "metadata": {
  "kernelspec": {
   "display_name": "Python 3 (ipykernel)",
   "language": "python",
   "name": "python3"
  },
  "language_info": {
   "codemirror_mode": {
    "name": "ipython",
    "version": 3
   },
   "file_extension": ".py",
   "mimetype": "text/x-python",
   "name": "python",
   "nbconvert_exporter": "python",
   "pygments_lexer": "ipython3",
   "version": "3.10.9"
  }
 },
 "nbformat": 4,
 "nbformat_minor": 5
}
