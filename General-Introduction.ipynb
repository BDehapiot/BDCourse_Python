{
 "cells": [
  {
   "cell_type": "markdown",
   "id": "2cdb763e-d7d1-4ffb-b694-38e276048da0",
   "metadata": {},
   "source": [
    "# Image data analysis with Python  \n",
    "## General introduction"
   ]
  },
  {
   "cell_type": "markdown",
   "id": "d19adb38-1fb4-4454-b48c-195843d499b1",
   "metadata": {},
   "source": [
    "### 1) Variables  \n",
    "Variables are used to store information to be later referenced or manipulated by a computer program.  \n",
    "In general, variables are defined by their **name**, their **type** and the **data** assigned to them. "
   ]
  },
  {
   "cell_type": "markdown",
   "id": "4e4c1dd2",
   "metadata": {},
   "source": [
    "In Python, variables are created by assigning them a value using the `=` operator."
   ]
  },
  {
   "cell_type": "code",
   "execution_count": 2,
   "id": "6cee00f9-2fbe-4892-a1b2-5d50c107c6b5",
   "metadata": {
    "tags": []
   },
   "outputs": [
    {
     "name": "stdout",
     "output_type": "stream",
     "text": [
      "10\n",
      "ten\n"
     ]
    }
   ],
   "source": [
    "a = 10\n",
    "b = 'ten'\n",
    "print(a)\n",
    "print(b)"
   ]
  },
  {
   "cell_type": "markdown",
   "id": "b952db6e-1cb4-48a1-84ba-ecce1269d9db",
   "metadata": {},
   "source": [
    "Here we assigned the value 10 to the variable a and the value 'ten' to the variable b."
   ]
  }
 ],
 "metadata": {
  "kernelspec": {
   "display_name": "Python 3 (ipykernel)",
   "language": "python",
   "name": "python3"
  },
  "language_info": {
   "codemirror_mode": {
    "name": "ipython",
    "version": 3
   },
   "file_extension": ".py",
   "mimetype": "text/x-python",
   "name": "python",
   "nbconvert_exporter": "python",
   "pygments_lexer": "ipython3",
   "version": "3.10.9"
  }
 },
 "nbformat": 4,
 "nbformat_minor": 5
}
