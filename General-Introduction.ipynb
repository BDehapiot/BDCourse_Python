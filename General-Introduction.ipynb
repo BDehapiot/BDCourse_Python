{
 "cells": [
  {
   "cell_type": "markdown",
   "id": "2cdb763e-d7d1-4ffb-b694-38e276048da0",
   "metadata": {},
   "source": [
    "# Image data analysis with Python  \n",
    "## General introduction"
   ]
  },
  {
   "cell_type": "markdown",
   "id": "d19adb38-1fb4-4454-b48c-195843d499b1",
   "metadata": {},
   "source": [
    "### 1) Variables  \n",
    "Variables are used to store information to be later referenced or manipulated by a computer program.  \n",
    "In general, variables are defined by their **name**, their **type** and the **data** assigned to them. "
   ]
  },
  {
   "cell_type": "markdown",
   "id": "4e4c1dd2",
   "metadata": {},
   "source": [
    "In Python, variables are created by assigning them a value using the `=` operator."
   ]
  },
  {
   "cell_type": "code",
   "execution_count": 4,
   "id": "6cee00f9-2fbe-4892-a1b2-5d50c107c6b5",
   "metadata": {
    "tags": []
   },
   "outputs": [],
   "source": [
    "a = 10"
   ]
  },
  {
   "cell_type": "markdown",
   "id": "b952db6e-1cb4-48a1-84ba-ecce1269d9db",
   "metadata": {},
   "source": [
    "Here we assigned the value 10 to the variable `a`.  \n",
    "The value of the variable can be displayed using the `print()` function."
   ]
  },
  {
   "cell_type": "code",
   "execution_count": 5,
   "id": "945e6814-e894-487f-9b49-d77970287c29",
   "metadata": {
    "tags": []
   },
   "outputs": [
    {
     "name": "stdout",
     "output_type": "stream",
     "text": [
      "10\n"
     ]
    }
   ],
   "source": [
    "print(a)"
   ]
  },
  {
   "cell_type": "markdown",
   "id": "ead50fd4-2ce7-4b68-98da-6d63660c10ef",
   "metadata": {},
   "source": [
    "In Python, a type is automatically attributed to the variable when it is created.  \n",
    "The variable type can be inspected using the `type()` function. "
   ]
  },
  {
   "cell_type": "code",
   "execution_count": 11,
   "id": "526c4262-3af7-48d8-b8f5-977c9f88fab2",
   "metadata": {
    "tags": []
   },
   "outputs": [
    {
     "name": "stdout",
     "output_type": "stream",
     "text": [
      "<class 'int'>\n",
      "<class 'float'>\n",
      "<class 'str'>\n"
     ]
    }
   ],
   "source": [
    "a = 10\n",
    "b = 10.5\n",
    "c = 'ten'\n",
    "print(type(a))\n",
    "print(type(b))\n",
    "print(type(c))"
   ]
  }
 ],
 "metadata": {
  "kernelspec": {
   "display_name": "Python 3 (ipykernel)",
   "language": "python",
   "name": "python3"
  },
  "language_info": {
   "codemirror_mode": {
    "name": "ipython",
    "version": 3
   },
   "file_extension": ".py",
   "mimetype": "text/x-python",
   "name": "python",
   "nbconvert_exporter": "python",
   "pygments_lexer": "ipython3",
   "version": "3.10.9"
  }
 },
 "nbformat": 4,
 "nbformat_minor": 5
}
