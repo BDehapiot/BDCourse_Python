{
 "cells": [
  {
   "cell_type": "markdown",
   "id": "a1fd175c-ed61-45e7-9bf0-c9d98418a46f",
   "metadata": {
    "tags": []
   },
   "source": [
    "# Ressources\n",
    "## Data Types"
   ]
  },
  {
   "cell_type": "markdown",
   "id": "f363e6a3-fc65-42ec-997d-54560fdcbee4",
   "metadata": {},
   "source": [
    "### 1 | Built-in data types\n",
    "---"
   ]
  },
  {
   "cell_type": "markdown",
   "id": "a778f376-3469-4d1f-8523-9e43cf88d0bc",
   "metadata": {},
   "source": [
    "| Category | Data Types                   |\n",
    "|----------|------------------------------|\n",
    "| Text     | str                          |\n",
    "| Numeric  | int, float, complex          |\n",
    "| Boolean  | bool                         |\n",
    "| Sequence | list, tuple, range           |\n",
    "| Mapping  | dict                         |\n",
    "| Set      | set, frozenset               |\n",
    "| Binary   | bytes, bytearray, memoryview |\n",
    "| None     | NoneType                     |"
   ]
  }
 ],
 "metadata": {
  "kernelspec": {
   "display_name": "Python 3 (ipykernel)",
   "language": "python",
   "name": "python3"
  },
  "language_info": {
   "codemirror_mode": {
    "name": "ipython",
    "version": 3
   },
   "file_extension": ".py",
   "mimetype": "text/x-python",
   "name": "python",
   "nbconvert_exporter": "python",
   "pygments_lexer": "ipython3",
   "version": "3.10.9"
  }
 },
 "nbformat": 4,
 "nbformat_minor": 5
}
