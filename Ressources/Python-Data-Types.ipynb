{
 "cells": [
  {
   "cell_type": "markdown",
   "id": "a1fd175c-ed61-45e7-9bf0-c9d98418a46f",
   "metadata": {
    "tags": []
   },
   "source": [
    "# Ressources\n",
    "## Python Data Types"
   ]
  },
  {
   "cell_type": "markdown",
   "id": "a778f376-3469-4d1f-8523-9e43cf88d0bc",
   "metadata": {},
   "source": [
    "| Category | Data Types                   |\n",
    "|----------|------------------------------|\n",
    "| Text     | str                          |\n",
    "| Numeric  | int, float, complex          |\n",
    "| Boolean  | bool                         |\n",
    "| Sequence | list, tuple, range           |\n",
    "| Mapping  | dict                         |\n",
    "| Set      | set, frozenset               |\n",
    "| Binary   | bytes, bytearray, memoryview |\n",
    "| None     | NoneType                     |"
   ]
  },
  {
   "cell_type": "markdown",
   "id": "cc3dd90f-a424-4100-a829-891db5abb381",
   "metadata": {},
   "source": [
    "### 1 | List\n",
    "---"
   ]
  },
  {
   "cell_type": "markdown",
   "id": "3a312e6b-4669-4aa6-b8e5-bc1c1d60ddcc",
   "metadata": {},
   "source": [
    "| Methods   | Syntax                | Action                                                                 |\n",
    "|-----------|-----------------------|------------------------------------------------------------------------|\n",
    "| append()  | list.append(x)        | Adds an element x to the end of the list                               |\n",
    "| clear()   | list.clear()          | Removes all elements from the list                                     |\n",
    "| copy()    | list.copy()           | Returns a copy of the list                                             |\n",
    "| count()   | list.count(x)         | Returns the number of elements with value x                            |\n",
    "| extend()  | list.extend(new_list) | Adds element of an iterable (e.g. another list) to the end of the list |\n",
    "| index()   | list.index(x)         | Returns the index of the first element with a value x                  |\n",
    "| insert()  | list.insert(idx, x)   | Adds an element x at the idx position                                  |\n",
    "| pop()     | list.pop(idx)         | Removes an element at a given position                                 |\n",
    "| remove()  | list.remove(x)        | Removes the first element with a value x                               |\n",
    "| reverse() | list.reverse()        | Reverses the order of the list                                         |\n",
    "| sort()    | list.sort()           | Sorts the list                                                         |"
   ]
  },
  {
   "cell_type": "markdown",
   "id": "098b868c-fa29-4c8c-8b30-b5f49f027da6",
   "metadata": {
    "tags": []
   },
   "source": [
    "### 2 | Tuple\n",
    "---"
   ]
  },
  {
   "cell_type": "markdown",
   "id": "978d1656-b63f-4e3f-938e-636ab824827e",
   "metadata": {
    "tags": []
   },
   "source": [
    "### 2 Tuple"
   ]
  }
 ],
 "metadata": {
  "kernelspec": {
   "display_name": "Python 3 (ipykernel)",
   "language": "python",
   "name": "python3"
  },
  "language_info": {
   "codemirror_mode": {
    "name": "ipython",
    "version": 3
   },
   "file_extension": ".py",
   "mimetype": "text/x-python",
   "name": "python",
   "nbconvert_exporter": "python",
   "pygments_lexer": "ipython3",
   "version": "3.10.9"
  }
 },
 "nbformat": 4,
 "nbformat_minor": 5
}
