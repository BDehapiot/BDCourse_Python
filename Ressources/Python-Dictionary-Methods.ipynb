{
 "cells": [
  {
   "cell_type": "markdown",
   "id": "27e3c863-11b8-445c-9d0d-6ecd764e9052",
   "metadata": {},
   "source": [
    "# Ressources\n",
    "## Python Dictionary Methods"
   ]
  },
  {
   "cell_type": "markdown",
   "id": "74c778d6-a11f-4a1e-8a48-28ea846c9624",
   "metadata": {},
   "source": [
    "| Methods      | Syntax                        | Action                                                                                            |\n",
    "|--------------|-------------------------------|---------------------------------------------------------------------------------------------------|\n",
    "| clear()      | dict.clear()                  | Removes all key-value pairs                                                                       |\n",
    "| copy()       | dict.copy()                   | Returns a copy of the dictionary                                                                  |\n",
    "| fromkeys()   | dict.fromkeys('keys', values) | Returns a dictionary with specified keys and values                                               |\n",
    "| get()        | dict.get('key')               | Returns the value of the specified key                                                            |\n",
    "| items()      | dict.items()                  | Returns a list of all key-value pairs                                                             |\n",
    "| keys()       | dict.keys()                   | Returns a list of all keys                                                                        |\n",
    "| pop()        | dict.pop('key')               | Removes the key-value pair with the specified key                                                 |\n",
    "| popitem()    | dict.popitem()                | Removes the last inserted key-value pair                                                          |\n",
    "| setdefault() | dict.setdefault('key', value) | Returns the value of the specified key<br>If key does not exist, add key with the specified value |\n",
    "| update()     | dict.update({'key'}: value)   | Updates the dictionary with the specified key-value pair                                          |\n",
    "| values()     | dict.values()                 | Returns a list of all values                                                                      |"
   ]
  }
 ],
 "metadata": {
  "kernelspec": {
   "display_name": "Python 3 (ipykernel)",
   "language": "python",
   "name": "python3"
  },
  "language_info": {
   "codemirror_mode": {
    "name": "ipython",
    "version": 3
   },
   "file_extension": ".py",
   "mimetype": "text/x-python",
   "name": "python",
   "nbconvert_exporter": "python",
   "pygments_lexer": "ipython3",
   "version": "3.10.9"
  }
 },
 "nbformat": 4,
 "nbformat_minor": 5
}
