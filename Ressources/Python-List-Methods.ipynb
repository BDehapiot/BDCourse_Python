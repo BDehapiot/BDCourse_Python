{
 "cells": [
  {
   "cell_type": "markdown",
   "id": "27e3c863-11b8-445c-9d0d-6ecd764e9052",
   "metadata": {},
   "source": [
    "# Ressources\n",
    "## Python List Methods"
   ]
  },
  {
   "cell_type": "markdown",
   "id": "74c778d6-a11f-4a1e-8a48-28ea846c9624",
   "metadata": {},
   "source": [
    "| Methods   | Syntax                | Action                                                                 |\n",
    "|-----------|-----------------------|------------------------------------------------------------------------|\n",
    "| append()  | list.append(x)        | Adds an element x to the end of the list                               |\n",
    "| clear()   | list.clear()          | Removes all elements from the list                                     |\n",
    "| copy()    | list.copy()           | Returns a copy of the list                                             |\n",
    "| count()   | list.count(x)         | Returns the number of elements with value x                            |\n",
    "| extend()  | list.extend(new_list) | Adds element of an iterable (e.g. another list) to the end of the list |\n",
    "| index()   | list.index(x)         | Returns the index of the first element with a value x                  |\n",
    "| insert()  | list.insert(idx, x)   | Adds an element x at the idx position                                  |\n",
    "| pop()     | list.pop(idx)         | Removes an element at a given position                                 |\n",
    "| remove()  | list.remove(x)        | Removes the first element with a value x                               |\n",
    "| reverse() | list.reverse()        | Reverses the order of the list                                         |\n",
    "| sort()    | list.sort()           | Sorts the list                                                         |"
   ]
  }
 ],
 "metadata": {
  "kernelspec": {
   "display_name": "Python 3 (ipykernel)",
   "language": "python",
   "name": "python3"
  },
  "language_info": {
   "codemirror_mode": {
    "name": "ipython",
    "version": 3
   },
   "file_extension": ".py",
   "mimetype": "text/x-python",
   "name": "python",
   "nbconvert_exporter": "python",
   "pygments_lexer": "ipython3",
   "version": "3.10.9"
  }
 },
 "nbformat": 4,
 "nbformat_minor": 5
}
