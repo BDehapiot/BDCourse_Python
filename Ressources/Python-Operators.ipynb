{
 "cells": [
  {
   "cell_type": "markdown",
   "id": "deb359fb-1edb-4a45-a7ec-b1966144cc44",
   "metadata": {},
   "source": [
    "# Ressources\n",
    "## Python Operators"
   ]
  },
  {
   "cell_type": "markdown",
   "id": "7d9ceb4f-a4d0-49cd-acb6-858cbc5921db",
   "metadata": {},
   "source": [
    "### 1 | Arithmetic operators\n",
    "---"
   ]
  },
  {
   "cell_type": "markdown",
   "id": "978d6d92-b3ac-4a5e-88f5-54b3c58f567f",
   "metadata": {},
   "source": [
    "| Operator       | Syntax | Action                                     | Examples                                             |\n",
    "|----------------|--------|--------------------------------------------|------------------------------------------------------|\n",
    "| Addition       | A + B  | sum of A and B                             | 1 + 1 = 2                                            |\n",
    "| Subtraction    | A - B  | B subtracted from a                        | 1 - 1 = 0                                            |\n",
    "| Multiplication | A * B  | product of A and B                         | 1 * 2 = 2                                            |\n",
    "| Exponentiation | A ** B | A raised to the power of B                 | 3 ** 2 = 9                                           |\n",
    "| Division       | A / B  | quotient of A divided by B<br>float result | 1 / 2 = 0.5<br>2 / 2 = 1.0                           |\n",
    "| Floor division | A // B | quotient of A divided by B<br>int result   | 1 // 2 = 0<br>2 // 2 = 0<br>3 // 2 = 1<br>4 // 2 = 2 |\n",
    "| Modulo         | A % B  | remainder of A divided by B                | 1 % 2 = 1<br>2 % 2 = 0<br>3 % 2 = 1<br>4 % 2 = 0     |"
   ]
  }
 ],
 "metadata": {
  "kernelspec": {
   "display_name": "Python 3 (ipykernel)",
   "language": "python",
   "name": "python3"
  },
  "language_info": {
   "codemirror_mode": {
    "name": "ipython",
    "version": 3
   },
   "file_extension": ".py",
   "mimetype": "text/x-python",
   "name": "python",
   "nbconvert_exporter": "python",
   "pygments_lexer": "ipython3",
   "version": "3.10.9"
  }
 },
 "nbformat": 4,
 "nbformat_minor": 5
}
