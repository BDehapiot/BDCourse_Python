{
 "cells": [
  {
   "cell_type": "markdown",
   "id": "deb359fb-1edb-4a45-a7ec-b1966144cc44",
   "metadata": {},
   "source": [
    "# Ressources\n",
    "## Python Operators"
   ]
  },
  {
   "cell_type": "markdown",
   "id": "7d9ceb4f-a4d0-49cd-acb6-858cbc5921db",
   "metadata": {},
   "source": [
    "### 1 | Arithmetic operators\n",
    "---"
   ]
  },
  {
   "cell_type": "markdown",
   "id": "978d6d92-b3ac-4a5e-88f5-54b3c58f567f",
   "metadata": {},
   "source": [
    "| Operator | Name           | Example     |\n",
    "|:---------|:---------------|:------------|\n",
    "| +        | Addition       | 1 + 1 = 2   |\n",
    "| -        | Subtraction    | 1 - 1 = 0   |\n",
    "| *        | Multiplication | 1 * 2 = 2   |\n",
    "| /        | Division       | 1 / 2 = 0.5 |\n",
    "| %        | Modulus        | 3 % 2 = 1   |\n",
    "| **       | Exponentiation | 3 ** 2 = 9  |\n",
    "| //       | Floor division | 1 // 2 = 0  |"
   ]
  },
  {
   "cell_type": "code",
   "execution_count": 8,
   "id": "8c74c12e-a433-4656-9943-9471af0f8c8f",
   "metadata": {
    "tags": []
   },
   "outputs": [
    {
     "name": "stdout",
     "output_type": "stream",
     "text": [
      "1\n"
     ]
    }
   ],
   "source": [
    "print(3%2)"
   ]
  }
 ],
 "metadata": {
  "kernelspec": {
   "display_name": "Python 3 (ipykernel)",
   "language": "python",
   "name": "python3"
  },
  "language_info": {
   "codemirror_mode": {
    "name": "ipython",
    "version": 3
   },
   "file_extension": ".py",
   "mimetype": "text/x-python",
   "name": "python",
   "nbconvert_exporter": "python",
   "pygments_lexer": "ipython3",
   "version": "3.10.9"
  }
 },
 "nbformat": 4,
 "nbformat_minor": 5
}
