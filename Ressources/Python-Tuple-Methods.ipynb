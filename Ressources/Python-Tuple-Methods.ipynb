{
 "cells": [
  {
   "cell_type": "markdown",
   "id": "27e3c863-11b8-445c-9d0d-6ecd764e9052",
   "metadata": {},
   "source": [
    "# Ressources\n",
    "## Python Tuple Methods"
   ]
  },
  {
   "cell_type": "markdown",
   "id": "74c778d6-a11f-4a1e-8a48-28ea846c9624",
   "metadata": {},
   "source": [
    "| Methods | Syntax         | Action                                                |\n",
    "|---------|----------------|-------------------------------------------------------|\n",
    "| count() | tuple.count(x) | Returns the number of elements with value x           |\n",
    "| index() | tuple.index(x) | Returns the index of the first element with a value x |"
   ]
  }
 ],
 "metadata": {
  "kernelspec": {
   "display_name": "Python 3 (ipykernel)",
   "language": "python",
   "name": "python3"
  },
  "language_info": {
   "codemirror_mode": {
    "name": "ipython",
    "version": 3
   },
   "file_extension": ".py",
   "mimetype": "text/x-python",
   "name": "python",
   "nbconvert_exporter": "python",
   "pygments_lexer": "ipython3",
   "version": "3.10.9"
  }
 },
 "nbformat": 4,
 "nbformat_minor": 5
}
